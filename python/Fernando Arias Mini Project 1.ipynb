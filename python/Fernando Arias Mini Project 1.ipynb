{
 "cells": [
  {
   "cell_type": "code",
   "execution_count": 1,
   "metadata": {},
   "outputs": [
    {
     "name": "stdout",
     "output_type": "stream",
     "text": [
      "Enter a number:4\n",
      "4is even.\n"
     ]
    }
   ],
   "source": [
    "number = int(input(\"Enter a number:\"))\n",
    "if (number % 2==0):\n",
    "#If the number is divisible by 2, then it is even\n",
    "  print(str(number)+ \"is even.\")\n",
    "else: \n",
    "#else, it is oddnumber = int(input(\"Enter a number:\"))\n",
    "  print(str(number)+ \"it is odd.\")"
   ]
  },
  {
   "cell_type": "code",
   "execution_count": 2,
   "metadata": {},
   "outputs": [
    {
     "name": "stdout",
     "output_type": "stream",
     "text": [
      "Enter a number:7\n",
      "7 is not a multiple of 4\n"
     ]
    }
   ],
   "source": [
    "number = int(input(\"Enter a number:\"))\n",
    "if (number % 4==0):\n",
    "#if the number is divisible by 4\n",
    "  print(number, \"is a multiple of 4\")\n",
    "else:\n",
    "#else it is not a multiple of 4\n",
    "  print(number, \"is not a multiple of 4\")"
   ]
  },
  {
   "cell_type": "code",
   "execution_count": 3,
   "metadata": {},
   "outputs": [
    {
     "name": "stdout",
     "output_type": "stream",
     "text": [
      "Enter a number:24\n",
      "Enter two numbers:12 6\n",
      "12 is completely divisible by  6\n"
     ]
    }
   ],
   "source": [
    "number = int(input(\"Enter a number:\"))\n",
    "num,check = map(int,input(\"Enter two numbers:\").split()) \n",
    "#to input two numbers in a same line say num and check\n",
    "if (num%check==0): \n",
    "#if num is completely divisible by check\n",
    "  print(num,\"is completely divisible by \",check)\n",
    "else:\n",
    "  print(num,\"is not divisible by \",check)\n",
    "\n"
   ]
  },
  {
   "cell_type": "code",
   "execution_count": null,
   "metadata": {},
   "outputs": [],
   "source": []
  }
 ],
 "metadata": {
  "kernelspec": {
   "display_name": "Python 3",
   "language": "python",
   "name": "python3"
  },
  "language_info": {
   "codemirror_mode": {
    "name": "ipython",
    "version": 3
   },
   "file_extension": ".py",
   "mimetype": "text/x-python",
   "name": "python",
   "nbconvert_exporter": "python",
   "pygments_lexer": "ipython3",
   "version": "3.8.5"
  }
 },
 "nbformat": 4,
 "nbformat_minor": 4
}
